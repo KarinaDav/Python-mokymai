{
 "cells": [
  {
   "cell_type": "markdown",
   "metadata": {},
   "source": [
    "# SET deklaracija\n"
   ]
  },
  {
   "cell_type": "code",
   "execution_count": 2,
   "metadata": {},
   "outputs": [],
   "source": [
    "my_set={1,2,3,4,5,5,5,5}"
   ]
  },
  {
   "cell_type": "code",
   "execution_count": 3,
   "metadata": {},
   "outputs": [
    {
     "name": "stdout",
     "output_type": "stream",
     "text": [
      "{1, 2, 3, 4, 5}\n"
     ]
    }
   ],
   "source": [
    "print(my_set)"
   ]
  },
  {
   "cell_type": "code",
   "execution_count": 4,
   "metadata": {},
   "outputs": [
    {
     "ename": "TypeError",
     "evalue": "'set' object is not subscriptable",
     "output_type": "error",
     "traceback": [
      "\u001b[1;31m---------------------------------------------------------------------------\u001b[0m",
      "\u001b[1;31mTypeError\u001b[0m                                 Traceback (most recent call last)",
      "\u001b[1;32mc:\\Users\\resto\\Documents\\python\\Python-mokymai\\paskaita_4.ipynb Cell 4'\u001b[0m in \u001b[0;36m<module>\u001b[1;34m\u001b[0m\n\u001b[1;32m----> <a href='vscode-notebook-cell:/c%3A/Users/resto/Documents/python/Python-mokymai/paskaita_4.ipynb#ch0000004?line=0'>1</a>\u001b[0m my_set[\u001b[39m0\u001b[39;49m]\n",
      "\u001b[1;31mTypeError\u001b[0m: 'set' object is not subscriptable"
     ]
    }
   ],
   "source": [
    "my_set[0]"
   ]
  },
  {
   "cell_type": "code",
   "execution_count": 7,
   "metadata": {},
   "outputs": [
    {
     "name": "stdout",
     "output_type": "stream",
     "text": [
      "{1, 2, 3, 4, 5, 10, -5}\n"
     ]
    }
   ],
   "source": [
    "my_set.add(10)\n",
    "my_set.add(-5)\n",
    "print(my_set)"
   ]
  },
  {
   "cell_type": "code",
   "execution_count": null,
   "metadata": {},
   "outputs": [],
   "source": [
    "# set is a mutable variable\n",
    "my_set.copy()"
   ]
  },
  {
   "cell_type": "code",
   "execution_count": 8,
   "metadata": {},
   "outputs": [
    {
     "name": "stdout",
     "output_type": "stream",
     "text": [
      "{1, 2, 3, 4, 5, 100, 10, -5}\n",
      "{2, 3, 4, 5, 100, 10, -5}\n"
     ]
    }
   ],
   "source": [
    "my_set.add(100)\n",
    "print(my_set)\n",
    "my_set.pop()\n",
    "print(my_set)"
   ]
  },
  {
   "cell_type": "code",
   "execution_count": 9,
   "metadata": {},
   "outputs": [
    {
     "name": "stdout",
     "output_type": "stream",
     "text": [
      "{2, 3, 4, 5, 10, -5}\n"
     ]
    }
   ],
   "source": [
    "my_set.remove(100)\n",
    "print(my_set) # antra karta negalima naudoti nes jau skaicius neegzestuoja"
   ]
  },
  {
   "cell_type": "code",
   "execution_count": 10,
   "metadata": {},
   "outputs": [
    {
     "name": "stdout",
     "output_type": "stream",
     "text": [
      "{2, 3, 4, 5, 10, -5}\n",
      "{2, 3, 4, 5, 10}\n"
     ]
    }
   ],
   "source": [
    "print(my_set)\n",
    "my_set.discard(100)\n",
    "my_set.discard(-5)\n",
    "my_set.discard(-5)\n",
    "print(my_set)"
   ]
  },
  {
   "cell_type": "code",
   "execution_count": 11,
   "metadata": {},
   "outputs": [
    {
     "name": "stdout",
     "output_type": "stream",
     "text": [
      "{64, 2, 3, 4, 5, 41, 10, 15, 30}\n"
     ]
    }
   ],
   "source": [
    "my_set.update([15,30,41,64])\n",
    "print(my_set)"
   ]
  },
  {
   "cell_type": "code",
   "execution_count": 14,
   "metadata": {},
   "outputs": [
    {
     "name": "stdout",
     "output_type": "stream",
     "text": [
      "9 in my_set False\n",
      "30 in my_set True\n"
     ]
    }
   ],
   "source": [
    "print('9 in my_set', 9 in my_set)\n",
    "print('30 in my_set',30 in my_set)"
   ]
  },
  {
   "cell_type": "code",
   "execution_count": 17,
   "metadata": {},
   "outputs": [
    {
     "name": "stdout",
     "output_type": "stream",
     "text": [
      "{8, 1, 2}\n",
      "{5, 6}\n",
      "{1, 2, 4, 5, 6, 7, 8, 10, 11}\n"
     ]
    }
   ],
   "source": [
    "my_set_1={1,2,5,6,8}\n",
    "my_set_2={4,5,6,7,10,11}\n",
    "print(my_set_1.difference(my_set_2))\n",
    "print(my_set_1.intersection(my_set_2))\n",
    "print(my_set_1.union(my_set_2))\n"
   ]
  },
  {
   "cell_type": "code",
   "execution_count": 22,
   "metadata": {},
   "outputs": [
    {
     "name": "stdout",
     "output_type": "stream",
     "text": [
      "True\n",
      "True\n",
      "False\n",
      "False\n"
     ]
    }
   ],
   "source": [
    "my_set_1={5,6}\n",
    "my_set_2={4,5,6,7,10,11}\n",
    "print(my_set_1.issubset(my_set_2))\n",
    "print(my_set_2.issuperset(my_set_1))\n",
    "my_set_1={5,6,15}\n",
    "print(my_set_1.issubset(my_set_2))\n",
    "print(my_set_2.issuperset(my_set_1))"
   ]
  },
  {
   "cell_type": "code",
   "execution_count": 28,
   "metadata": {},
   "outputs": [
    {
     "name": "stdout",
     "output_type": "stream",
     "text": [
      "{('naja reiksme', 5), 'banana', 'cherry', 'apple'}\n"
     ]
    }
   ],
   "source": [
    "fruits_1={'apple','banana','cherry'}\n",
    "fruits_1.add(('naja reiksme',5))\n",
    "print(fruits_1)\n"
   ]
  },
  {
   "cell_type": "code",
   "execution_count": 37,
   "metadata": {},
   "outputs": [
    {
     "name": "stdout",
     "output_type": "stream",
     "text": [
      "{'banana', 'cherry', 'watermelon'}\n",
      "{'pear', 'banana', 'cucumber', 'watermelon', 'cherry', 'tomato', 'avocado', 'mango'}\n",
      "{'banana', 'cucumber', 'watermelon', 'cherry', 'tomato', 'avocado', 'mango'}\n",
      "7\n",
      "8\n"
     ]
    }
   ],
   "source": [
    "fruits_1={'apple','banana','cherry'}\n",
    "fruits_1.remove('apple') #galima naudoti discard funkcija\n",
    "fruits_1.add('watermelon')\n",
    "print(fruits_1)\n",
    "fruits_1.update(('pear','cucumber','tomato','mango','avocado'))\n",
    "print(fruits_1)\n",
    "fruits_1.remove('pear')\n",
    "print(fruits_1)\n",
    "print(len(fruits_1))\n",
    "fruits_1.add('apple')\n",
    "print(len(fruits_1))"
   ]
  },
  {
   "cell_type": "markdown",
   "metadata": {},
   "source": [
    "# function deklaracija"
   ]
  },
  {
   "cell_type": "code",
   "execution_count": 38,
   "metadata": {},
   "outputs": [],
   "source": [
    "def mano_funkcija():\n",
    "    print('hello world')"
   ]
  },
  {
   "cell_type": "code",
   "execution_count": 40,
   "metadata": {},
   "outputs": [
    {
     "name": "stdout",
     "output_type": "stream",
     "text": [
      "hello world\n",
      "hello world\n",
      "hello world\n"
     ]
    }
   ],
   "source": [
    "mano_funkcija()\n",
    "mano_funkcija()\n",
    "mano_funkcija()"
   ]
  },
  {
   "cell_type": "code",
   "execution_count": 50,
   "metadata": {},
   "outputs": [],
   "source": [
    "def mano_funkcija_2(name):\n",
    "    print('Hello {name}, how is your day?')"
   ]
  },
  {
   "cell_type": "code",
   "execution_count": 51,
   "metadata": {},
   "outputs": [
    {
     "name": "stdout",
     "output_type": "stream",
     "text": [
      "Hello {name}, how is your day?\n",
      "Hello {name}, how is your day?\n",
      "Hello {name}, how is your day?\n"
     ]
    }
   ],
   "source": [
    "mano_funkcija_2('Tomas')\n",
    "mano_funkcija_2('Helena')\n",
    "mano_funkcija_2('Karina')"
   ]
  },
  {
   "cell_type": "code",
   "execution_count": 54,
   "metadata": {},
   "outputs": [],
   "source": [
    "def substract(num_1, num_2):\n",
    "    print(num_1-num_2)\n",
    "    return num_1-num_2"
   ]
  },
  {
   "cell_type": "code",
   "execution_count": 60,
   "metadata": {},
   "outputs": [
    {
     "name": "stdout",
     "output_type": "stream",
     "text": [
      "7\n",
      "7\n",
      "7\n",
      "7\n",
      "Niekada neatspasdins\n"
     ]
    }
   ],
   "source": [
    "substract(12,5)\n",
    "substract(num_1=12,num_2=5)\n",
    "result=substract(num_1=12,num_2=5)\n",
    "print(result)\n",
    "print('Niekada neatspasdins')"
   ]
  },
  {
   "cell_type": "code",
   "execution_count": 62,
   "metadata": {},
   "outputs": [],
   "source": [
    "def add_number(num_1,num_2=10): # obtional argument \n",
    "    return num_1+num_2"
   ]
  },
  {
   "cell_type": "code",
   "execution_count": 66,
   "metadata": {},
   "outputs": [],
   "source": [
    "def add_number(num_1):\n",
    "    num_2=10 # obtional argument \n",
    "    return num_1+num_2"
   ]
  },
  {
   "cell_type": "code",
   "execution_count": 65,
   "metadata": {},
   "outputs": [
    {
     "name": "stdout",
     "output_type": "stream",
     "text": [
      "23\n",
      "13\n",
      "53\n"
     ]
    }
   ],
   "source": [
    "print(add_number(3,20))\n",
    "print(add_number(3))\n",
    "print(add_number(3,50))"
   ]
  },
  {
   "cell_type": "code",
   "execution_count": 67,
   "metadata": {},
   "outputs": [
    {
     "name": "stdout",
     "output_type": "stream",
     "text": [
      "a b 1 456 497777\n"
     ]
    }
   ],
   "source": [
    "print('a','b',1,456,497777)"
   ]
  },
  {
   "cell_type": "code",
   "execution_count": 69,
   "metadata": {},
   "outputs": [],
   "source": [
    "def add_all_numbers(*args):\n",
    "    print(args)"
   ]
  },
  {
   "cell_type": "code",
   "execution_count": 70,
   "metadata": {},
   "outputs": [
    {
     "name": "stdout",
     "output_type": "stream",
     "text": [
      "('a', 'b', 1, 456, 497777)\n"
     ]
    }
   ],
   "source": [
    "add_all_numbers('a','b',1,456,497777)"
   ]
  }
 ],
 "metadata": {
  "interpreter": {
   "hash": "afcf6c5641f9e98bcef0caa5083fad398b3256b82ea486054a4e0aed71169f10"
  },
  "kernelspec": {
   "display_name": "Python 3.10.2 64-bit",
   "language": "python",
   "name": "python3"
  },
  "language_info": {
   "codemirror_mode": {
    "name": "ipython",
    "version": 3
   },
   "file_extension": ".py",
   "mimetype": "text/x-python",
   "name": "python",
   "nbconvert_exporter": "python",
   "pygments_lexer": "ipython3",
   "version": "3.10.2"
  },
  "orig_nbformat": 4
 },
 "nbformat": 4,
 "nbformat_minor": 2
}
