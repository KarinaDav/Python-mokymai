{
 "cells": [
  {
   "cell_type": "code",
   "execution_count": 2,
   "metadata": {},
   "outputs": [
    {
     "name": "stdout",
     "output_type": "stream",
     "text": [
      "Karina Dav\n"
     ]
    }
   ],
   "source": [
    "mano_vardas='Karina'\n",
    "mano_pavarde=\"Dav\"\n",
    "print(mano_vardas,mano_pavarde)"
   ]
  },
  {
   "cell_type": "code",
   "execution_count": 13,
   "metadata": {},
   "outputs": [
    {
     "name": "stdout",
     "output_type": "stream",
     "text": [
      "PYTHON MAKES ME REALLY REALLY HAPPY!\n",
      "PyThon makes me really really happy!\n"
     ]
    }
   ],
   "source": [
    "tekstas='Python makes me really really happy!' \n",
    "print(tekstas.upper())\n",
    "print(tekstas.replace('t','T'))\n"
   ]
  },
  {
   "cell_type": "code",
   "execution_count": 33,
   "metadata": {},
   "outputs": [
    {
     "name": "stdout",
     "output_type": "stream",
     "text": [
      "18\n",
      "happy\n",
      "happy\n",
      "6\n"
     ]
    }
   ],
   "source": [
    "text='Hello World, I am happy to learn Python!'\n",
    "print(text.index('happy'))\n",
    "print(text[text.index('happy'):23])\n",
    "print(text[18:23])\n",
    "print(len(text[17:23]))\n"
   ]
  },
  {
   "cell_type": "code",
   "execution_count": 26,
   "metadata": {},
   "outputs": [
    {
     "name": "stdout",
     "output_type": "stream",
     "text": [
      "to\n"
     ]
    }
   ],
   "source": [
    "print(text[24:26])"
   ]
  },
  {
   "cell_type": "code",
   "execution_count": 27,
   "metadata": {},
   "outputs": [
    {
     "name": "stdout",
     "output_type": "stream",
     "text": [
      "40\n"
     ]
    }
   ],
   "source": [
    "print(len(text))"
   ]
  }
 ],
 "metadata": {
  "interpreter": {
   "hash": "afcf6c5641f9e98bcef0caa5083fad398b3256b82ea486054a4e0aed71169f10"
  },
  "kernelspec": {
   "display_name": "Python 3.10.2 64-bit",
   "language": "python",
   "name": "python3"
  },
  "language_info": {
   "codemirror_mode": {
    "name": "ipython",
    "version": 3
   },
   "file_extension": ".py",
   "mimetype": "text/x-python",
   "name": "python",
   "nbconvert_exporter": "python",
   "pygments_lexer": "ipython3",
   "version": "3.10.2"
  },
  "orig_nbformat": 4
 },
 "nbformat": 4,
 "nbformat_minor": 2
}
