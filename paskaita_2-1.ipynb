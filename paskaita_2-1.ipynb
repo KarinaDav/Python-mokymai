{
 "cells": [
  {
   "cell_type": "code",
   "execution_count": 4,
   "metadata": {},
   "outputs": [
    {
     "name": "stdout",
     "output_type": "stream",
     "text": [
      "<class 'int'>\n",
      "<class 'float'>\n",
      "<class 'float'>\n"
     ]
    }
   ],
   "source": [
    "print(type(420))\n",
    "print(type(420.))\n",
    "print(type(420.5))\n"
   ]
  },
  {
   "cell_type": "code",
   "execution_count": 7,
   "metadata": {},
   "outputs": [
    {
     "name": "stdout",
     "output_type": "stream",
     "text": [
      "5\n",
      "11\n",
      "18\n"
     ]
    }
   ],
   "source": [
    "suma=0\n",
    "suma=suma+5\n",
    "print(suma)\n",
    "suma=suma+6\n",
    "print(suma)\n",
    "suma+=7\n",
    "print(suma)\n"
   ]
  },
  {
   "cell_type": "code",
   "execution_count": 10,
   "metadata": {},
   "outputs": [
    {
     "name": "stdout",
     "output_type": "stream",
     "text": [
      "10\n",
      "45.0\n",
      "2025.0\n"
     ]
    }
   ],
   "source": [
    "sandauga=1\n",
    "sandauga*=10\n",
    "print(sandauga)\n",
    "sandauga*=4.5\n",
    "print(sandauga)\n",
    "sandauga**=2 # kelimas kvadratu\n",
    "print(sandauga)"
   ]
  },
  {
   "cell_type": "code",
   "execution_count": 12,
   "metadata": {},
   "outputs": [
    {
     "name": "stdout",
     "output_type": "stream",
     "text": [
      "5\n",
      "-1\n",
      "6\n",
      "0.6666666666666666\n",
      "2\n",
      "0\n"
     ]
    }
   ],
   "source": [
    "n_1=2\n",
    "n_2=3\n",
    "print(n_1+n_2)\n",
    "print(n_1-n_2)\n",
    "print(n_1*n_2)\n",
    "print(n_1/n_2)\n",
    "print(n_1%n_2) #liekana\n",
    "print(n_1//n_2) #sveikoji dalybos dalis"
   ]
  },
  {
   "cell_type": "code",
   "execution_count": 13,
   "metadata": {},
   "outputs": [
    {
     "name": "stdout",
     "output_type": "stream",
     "text": [
      "5.8\n",
      "-0.7999999999999998\n",
      "8.25\n",
      "0.7575757575757576\n",
      "2.5\n",
      "0.0\n"
     ]
    }
   ],
   "source": [
    "n_1=2.5\n",
    "n_2=3.3\n",
    "print(n_1+n_2)\n",
    "print(n_1-n_2)\n",
    "print(n_1*n_2)\n",
    "print(n_1/n_2)\n",
    "print(n_1%n_2) #liekana\n",
    "print(n_1//n_2) #sveikoji dalybos dalis"
   ]
  },
  {
   "cell_type": "code",
   "execution_count": 15,
   "metadata": {},
   "outputs": [
    {
     "name": "stdout",
     "output_type": "stream",
     "text": [
      "390.625\n",
      "atstumas iki saules yra 390.625 kartu didesnis nei iki menulio\n"
     ]
    }
   ],
   "source": [
    "dist_moon=384000\n",
    "dist_sun=150000000\n",
    "print(dist_sun/dist_moon)\n",
    "print( f'atstumas iki saules yra {dist_sun/dist_moon} kartu didesnis nei iki menulio')"
   ]
  },
  {
   "cell_type": "code",
   "execution_count": 16,
   "metadata": {},
   "outputs": [
    {
     "name": "stdout",
     "output_type": "stream",
     "text": [
      " valandu: 2560.0\n"
     ]
    }
   ],
   "source": [
    "car_speed=150 # km/h\n",
    "print(' valandu:', dist_moon/car_speed)"
   ]
  },
  {
   "cell_type": "code",
   "execution_count": 18,
   "metadata": {},
   "outputs": [
    {
     "name": "stdout",
     "output_type": "stream",
     "text": [
      "<class 'bool'>\n",
      "True\n"
     ]
    }
   ],
   "source": [
    "loginis_kintamasis=True\n",
    "print(type(loginis_kintamasis))\n",
    "print(loginis_kintamasis)"
   ]
  },
  {
   "cell_type": "code",
   "execution_count": 21,
   "metadata": {},
   "outputs": [
    {
     "name": "stdout",
     "output_type": "stream",
     "text": [
      "1\n",
      "0\n"
     ]
    }
   ],
   "source": [
    "print(int(loginis_kintamasis))\n",
    "print(int(False))"
   ]
  },
  {
   "cell_type": "code",
   "execution_count": 31,
   "metadata": {},
   "outputs": [
    {
     "name": "stdout",
     "output_type": "stream",
     "text": [
      "True\n",
      "False\n",
      "True\n",
      "True\n",
      "50==number True\n",
      "100==number False\n",
      "100!=number True\n",
      "90!=number True\n",
      "50!=number False\n"
     ]
    }
   ],
   "source": [
    "number=50\n",
    "print(10>5)\n",
    "print(10<5)\n",
    "print(10<=10)\n",
    "print(10>=10)\n",
    "print('50==number', 50==number) # = priskiria verte, == palygina\n",
    "print('100==number', 100==number)\n",
    "print('100!=number', 100!=number) # !=nera lygu\n",
    "print('90!=number', 90!=number) # !=nera lygu\n",
    "print('50!=number', 50!=number) # !=nera lygu"
   ]
  },
  {
   "cell_type": "code",
   "execution_count": 34,
   "metadata": {},
   "outputs": [
    {
     "name": "stdout",
     "output_type": "stream",
     "text": [
      "bool(1654) True\n",
      "bool(0) False\n",
      "bool(-1) True\n",
      "bool(0.000001) True\n"
     ]
    }
   ],
   "source": [
    "print('bool(1654)',bool(1654))\n",
    "print('bool(0)',bool(0))\n",
    "print('bool(-1)',bool(-1))\n",
    "print('bool(0.000001)',bool(0.000001))"
   ]
  },
  {
   "cell_type": "code",
   "execution_count": 39,
   "metadata": {},
   "outputs": [
    {
     "name": "stdout",
     "output_type": "stream",
     "text": [
      "bool(tekstas) True\n",
      "bool() False\n",
      "bool(' '): True\n",
      "bool(0.000001) True\n"
     ]
    }
   ],
   "source": [
    "print('bool(tekstas)',bool('tekstas'))\n",
    "print('bool()',bool(''))\n",
    "print(\"bool(' '):\", bool(' '))\n",
    "# jeigu tekste yra bent vienas smbolis jis bus True, jei tuscias visada False"
   ]
  },
  {
   "cell_type": "code",
   "execution_count": 58,
   "metadata": {},
   "outputs": [
    {
     "name": "stdout",
     "output_type": "stream",
     "text": [
      "(10<5) False\n",
      "(10>8) True\n",
      "(10<5 and 10>8) False\n",
      "10<5 or 10>8 True\n",
      "10<50 or 10>8 True\n",
      "True\n",
      "False\n",
      "True\n"
     ]
    }
   ],
   "source": [
    "print('(10<5)', (10<5))\n",
    "print('(10>8)', (10>8))\n",
    "print('(10<5 and 10>8)', (10<5 and 10>8))\n",
    "print('10<5 or 10>8',10<5 or 10>8)\n",
    "print('10<50 or 10>8',10<50 or 10>8)\n",
    "\n",
    "# false and true\n",
    "\n",
    "#not - duoda priesinga atsakyma\n",
    "print(not 5>10)\n",
    "print(not True)\n",
    "print(not False)"
   ]
  },
  {
   "cell_type": "code",
   "execution_count": 62,
   "metadata": {},
   "outputs": [
    {
     "name": "stdout",
     "output_type": "stream",
     "text": [
      "True\n",
      "False\n",
      "False\n",
      "True\n"
     ]
    }
   ],
   "source": [
    "print( \"Vilnius\"in 'Vilnius, Kaunas')\n",
    "print( \"Klaipeda\"in 'Vilnius, Kaunas')\n",
    "print( \"vilnius\"in 'Vilnius, Kaunas')\n",
    "print( \"s\"in 'Vilnius, Kaunas')"
   ]
  },
  {
   "cell_type": "code",
   "execution_count": 64,
   "metadata": {},
   "outputs": [
    {
     "name": "stdout",
     "output_type": "stream",
     "text": [
      "True\n",
      "True\n"
     ]
    }
   ],
   "source": [
    "print(True==1)\n",
    "print(False==0)"
   ]
  },
  {
   "cell_type": "code",
   "execution_count": 70,
   "metadata": {},
   "outputs": [
    {
     "name": "stdout",
     "output_type": "stream",
     "text": [
      "True\n",
      "True\n",
      "True\n",
      "True\n",
      "True\n"
     ]
    }
   ],
   "source": [
    "print(10>8)\n",
    "print(8<11)\n",
    "print(not 5>6)\n",
    "print(\"a\" in 'labas')\n",
    "number=2\n",
    "print(10!=number)"
   ]
  },
  {
   "cell_type": "code",
   "execution_count": 72,
   "metadata": {},
   "outputs": [
    {
     "name": "stdout",
     "output_type": "stream",
     "text": [
      "False\n",
      "False\n",
      "False\n",
      "False\n",
      "False\n"
     ]
    }
   ],
   "source": [
    "print(10<8)\n",
    "print(8>11)\n",
    "print(not 5<6)\n",
    "print(\"o\" in 'labas')\n",
    "number=10\n",
    "print(10!=number)"
   ]
  },
  {
   "cell_type": "code",
   "execution_count": 73,
   "metadata": {},
   "outputs": [
    {
     "name": "stdout",
     "output_type": "stream",
     "text": [
      "True\n"
     ]
    }
   ],
   "source": [
    "print(str(True))"
   ]
  },
  {
   "cell_type": "code",
   "execution_count": 74,
   "metadata": {},
   "outputs": [
    {
     "name": "stdout",
     "output_type": "stream",
     "text": [
      "-1.0999999999999996\n"
     ]
    }
   ],
   "source": [
    "float_1=2.2\n",
    "float_2=3.3\n",
    "print(float_1-float_2) #tai nera klaida, kompiuteriai veikia dvejetaineje sistemoje"
   ]
  },
  {
   "cell_type": "markdown",
   "metadata": {},
   "source": [
    "# List\n"
   ]
  },
  {
   "cell_type": "code",
   "execution_count": 76,
   "metadata": {},
   "outputs": [],
   "source": [
    "cities=['Vilnius', 'Kaunas', 'Klaipeda']"
   ]
  },
  {
   "cell_type": "code",
   "execution_count": 81,
   "metadata": {},
   "outputs": [
    {
     "name": "stdout",
     "output_type": "stream",
     "text": [
      "<class 'list'>\n",
      "<class 'list'>\n",
      "Vilnius\n",
      "Klaipeda\n",
      "['Kaunas', 'Klaipeda']\n"
     ]
    }
   ],
   "source": [
    "print(type(cities))\n",
    "print(type([]))\n",
    "print(cities[0])\n",
    "print(cities[-1])\n",
    "# slicing\n",
    "print(cities[1:])"
   ]
  },
  {
   "cell_type": "code",
   "execution_count": 82,
   "metadata": {},
   "outputs": [
    {
     "name": "stdout",
     "output_type": "stream",
     "text": [
      "['Vilnius', 'Kaunas', 'Siauliai']\n"
     ]
    }
   ],
   "source": [
    "cities[-1]='Siauliai'\n",
    "print(cities)"
   ]
  },
  {
   "cell_type": "code",
   "execution_count": 86,
   "metadata": {},
   "outputs": [
    {
     "name": "stdout",
     "output_type": "stream",
     "text": [
      "['Vilnius', 'Kaunas', 'Siauliai', 'Panevezys', 'Marijampole', 'Panevezys']\n"
     ]
    }
   ],
   "source": [
    "cities.append('Marijampole')\n",
    "cities.append('Panevezys') #prideda kiekviena karta paleidus \n",
    "print(cities)"
   ]
  },
  {
   "cell_type": "code",
   "execution_count": 87,
   "metadata": {},
   "outputs": [
    {
     "name": "stdout",
     "output_type": "stream",
     "text": [
      "['Vilnius', 'Kaunas', 'Siauliai', 'Marijampole', 'Panevezys']\n"
     ]
    }
   ],
   "source": [
    "cities.remove('Panevezys') # pasalina pirma pasitaikiusia verte \n",
    "print(cities)"
   ]
  },
  {
   "cell_type": "code",
   "execution_count": 89,
   "metadata": {},
   "outputs": [
    {
     "name": "stdout",
     "output_type": "stream",
     "text": [
      "['Vilnius', 'Kaunas', 'Siauliai', 'Marijampole', 'Panevezys', 'Marijampole', 'Panevezys']\n",
      "['Vilnius', 'Kaunas', 'Siauliai', 'Marijampole', 'Panevezys', 'Marijampole']\n"
     ]
    },
    {
     "data": {
      "text/plain": [
       "'Marijampole'"
      ]
     },
     "execution_count": 89,
     "metadata": {},
     "output_type": "execute_result"
    }
   ],
   "source": [
    "cities.append('Marijampole')\n",
    "cities.append('Panevezys') #prideda kiekviena karta paleidus\n",
    "print(cities)\n",
    "cities.pop() # pasalina paskutine verte \n",
    "print(cities)\n",
    "cities.pop()"
   ]
  },
  {
   "cell_type": "code",
   "execution_count": 93,
   "metadata": {},
   "outputs": [
    {
     "name": "stdout",
     "output_type": "stream",
     "text": [
      "['Vilnius', 'Kaunas', 'Siauliai', 'Marijampole', 'Panevezys', ' New York', 'London']\n",
      " po extend \n",
      "9 ['Vilnius', 'Kaunas', 'Siauliai', 'Marijampole', 'Panevezys', ' New York', 'London', ' New York', 'London']\n",
      "po append\n",
      "8 ['Vilnius', 'Kaunas', 'Siauliai', 'Marijampole', 'Panevezys', ' New York', 'London', [' New York', 'London']]\n"
     ]
    },
    {
     "data": {
      "text/plain": [
       "[' New York', 'London']"
      ]
     },
     "execution_count": 93,
     "metadata": {},
     "output_type": "execute_result"
    }
   ],
   "source": [
    "new_cities=[' New York', 'London']\n",
    "print(cities)\n",
    "cities.extend(new_cities) # prideda kaip atskirus narius i jau egzistuojanti sarasa\n",
    "print(' po extend ')\n",
    "print(len(cities),cities)\n",
    "cities.pop()\n",
    "cities.pop()\n",
    "cities.append(new_cities)\n",
    "print('po append') # atsiranda sasrasas sarase\n",
    "print(len(cities),cities)\n",
    "cities.pop()"
   ]
  },
  {
   "cell_type": "code",
   "execution_count": 94,
   "metadata": {},
   "outputs": [
    {
     "name": "stdout",
     "output_type": "stream",
     "text": [
      "[]\n"
     ]
    }
   ],
   "source": [
    "cities.clear()\n",
    "print(cities)"
   ]
  },
  {
   "cell_type": "code",
   "execution_count": 98,
   "metadata": {},
   "outputs": [
    {
     "name": "stdout",
     "output_type": "stream",
     "text": [
      "2\n",
      "1\n"
     ]
    }
   ],
   "source": [
    "cities=['Vilnius', 'Kaunas', 'Siauliai', 'Marijampole', 'Panevezys', 'Panevezys']\n",
    "print(cities.count('Panevezys'))\n",
    "print(cities.count('Vilnius'))"
   ]
  },
  {
   "cell_type": "code",
   "execution_count": 101,
   "metadata": {},
   "outputs": [
    {
     "name": "stdout",
     "output_type": "stream",
     "text": [
      "4\n"
     ]
    },
    {
     "ename": "ValueError",
     "evalue": "'Klaipeda' is not in list",
     "output_type": "error",
     "traceback": [
      "\u001b[1;31m---------------------------------------------------------------------------\u001b[0m",
      "\u001b[1;31mValueError\u001b[0m                                Traceback (most recent call last)",
      "\u001b[1;32mc:\\Users\\resto\\Documents\\python\\Python-mokymai\\paskaita_2-1.ipynb Cell 30'\u001b[0m in \u001b[0;36m<module>\u001b[1;34m\u001b[0m\n\u001b[0;32m      <a href='vscode-notebook-cell:/c%3A/Users/resto/Documents/python/Python-mokymai/paskaita_2-1.ipynb#ch0000031?line=0'>1</a>\u001b[0m \u001b[39mprint\u001b[39m(cities\u001b[39m.\u001b[39mindex(\u001b[39m'\u001b[39m\u001b[39mPanevezys\u001b[39m\u001b[39m'\u001b[39m)) \u001b[39m# nurodo indexa kuriame yra sita reiksme ( pradeda skaiciuoti nuo 0)\u001b[39;00m\n\u001b[1;32m----> <a href='vscode-notebook-cell:/c%3A/Users/resto/Documents/python/Python-mokymai/paskaita_2-1.ipynb#ch0000031?line=1'>2</a>\u001b[0m \u001b[39mprint\u001b[39m(cities\u001b[39m.\u001b[39;49mindex(\u001b[39m'\u001b[39;49m\u001b[39mKlaipeda\u001b[39;49m\u001b[39m'\u001b[39;49m))\n",
      "\u001b[1;31mValueError\u001b[0m: 'Klaipeda' is not in list"
     ]
    }
   ],
   "source": [
    "print(cities.index('Panevezys')) # nurodo indexa kuriame yra sita reiksme ( pradeda skaiciuoti nuo 0)\n",
    "print(cities.index('Klaipeda'))"
   ]
  },
  {
   "cell_type": "code",
   "execution_count": 102,
   "metadata": {},
   "outputs": [
    {
     "name": "stdout",
     "output_type": "stream",
     "text": [
      "['Vilnius', 'Kaunas', 'Klaipeda', 'Siauliai', 'Marijampole', 'Panevezys', 'Panevezys']\n"
     ]
    }
   ],
   "source": [
    "cities.insert(2,'Klaipeda')\n",
    "print(cities)"
   ]
  },
  {
   "cell_type": "code",
   "execution_count": 104,
   "metadata": {},
   "outputs": [
    {
     "name": "stdout",
     "output_type": "stream",
     "text": [
      "['Vilnius', 'Kaunas', 'Klaipeda', 'Siauliai', 'Marijampole', 'Panevezys', 'Panevezys']\n",
      "['Vilnius', 'Kaunas', 'Klaipeda', 'Siauliai', 'Marijampole', 'Panevezys', 'Panevezys']\n"
     ]
    }
   ],
   "source": [
    "cities.reverse() # perraso kintamojo duomenys\n",
    "print(cities)\n",
    "print(cities)"
   ]
  },
  {
   "cell_type": "code",
   "execution_count": 106,
   "metadata": {},
   "outputs": [
    {
     "name": "stdout",
     "output_type": "stream",
     "text": [
      "['Panevezys', 'Panevezys', 'Marijampole', 'Siauliai', 'Klaipeda', 'Kaunas', 'Vilnius']\n",
      "['Vilnius', 'Kaunas', 'Klaipeda', 'Siauliai', 'Marijampole', 'Panevezys', 'Panevezys']\n"
     ]
    }
   ],
   "source": [
    "print(cities[::-1]) #pilnai apsuka sarasa, bet neperraso duomenys\n",
    "print(cities)"
   ]
  },
  {
   "cell_type": "code",
   "execution_count": 107,
   "metadata": {},
   "outputs": [],
   "source": [
    "numbers=[5614,984,479987,3453,1,2,14,0,111]"
   ]
  },
  {
   "cell_type": "code",
   "execution_count": 109,
   "metadata": {},
   "outputs": [
    {
     "name": "stdout",
     "output_type": "stream",
     "text": [
      "[0, 1, 2, 14, 111, 984, 3453, 5614, 479987]\n",
      "[479987, 5614, 3453, 984, 111, 14, 2, 1, 0]\n"
     ]
    }
   ],
   "source": [
    "numbers.sort() # funkcija surusiuoja visus skaicius didejimo tavrka\n",
    "print(numbers)\n",
    "numbers.sort(reverse=True) #norime kad mums surusiuotu mazejimo tvarka\n",
    "print(numbers)"
   ]
  },
  {
   "cell_type": "code",
   "execution_count": 116,
   "metadata": {},
   "outputs": [
    {
     "name": "stdout",
     "output_type": "stream",
     "text": [
      "False\n",
      "True\n",
      "True\n",
      "True\n",
      "False\n"
     ]
    }
   ],
   "source": [
    "print(bool([]))\n",
    "print(bool([5]))\n",
    "print(bool( [False,0,' ']))\n",
    "print('Vilnius' in cities)\n",
    "print('Berlin' in cities)\n",
    "# su loginem vertem - jeigu tuscia arba 0=False, jeigu ne tuscia ir ne 0= True\n"
   ]
  },
  {
   "cell_type": "code",
   "execution_count": 117,
   "metadata": {},
   "outputs": [
    {
     "name": "stdout",
     "output_type": "stream",
     "text": [
      "[1, 3458, 'A', False]\n"
     ]
    }
   ],
   "source": [
    "my_list=[1,3458]+['A', False] # sudeti galima , bet atimti ne \n",
    "print(my_list)"
   ]
  },
  {
   "cell_type": "code",
   "execution_count": 118,
   "metadata": {},
   "outputs": [
    {
     "name": "stdout",
     "output_type": "stream",
     "text": [
      "['first', 3, 58, 'first', 3, 58, 'first', 3, 58, 'first', 3, 58, 'first', 3, 58, 'first', 3, 58, 'first', 3, 58, 'first', 3, 58, 'first', 3, 58, 'first', 3, 58, 'first', 3, 58, 'first', 3, 58, 'first', 3, 58, 'first', 3, 58, 'first', 3, 58, 'first', 3, 58, 'first', 3, 58, 'first', 3, 58, 'first', 3, 58, 'first', 3, 58, 'first', 3, 58, 'first', 3, 58, 'first', 3, 58, 'first', 3, 58, 'first', 3, 58, 'first', 3, 58, 'first', 3, 58, 'first', 3, 58, 'first', 3, 58, 'first', 3, 58, 'first', 3, 58, 'first', 3, 58, 'first', 3, 58, 'first', 3, 58, 'first', 3, 58, 'first', 3, 58, 'first', 3, 58, 'first', 3, 58, 'first', 3, 58, 'first', 3, 58, 'first', 3, 58, 'first', 3, 58, 'first', 3, 58, 'first', 3, 58, 'first', 3, 58, 'first', 3, 58, 'first', 3, 58, 'first', 3, 58, 'first', 3, 58, 'first', 3, 58]\n"
     ]
    }
   ],
   "source": [
    "my_list=['first',3,58]*50\n",
    "print(my_list)"
   ]
  },
  {
   "cell_type": "markdown",
   "metadata": {},
   "source": [
    "# Mutable vs. immutable variables"
   ]
  },
  {
   "cell_type": "code",
   "execution_count": 122,
   "metadata": {},
   "outputs": [
    {
     "name": "stdout",
     "output_type": "stream",
     "text": [
      "2368084967824\n",
      "2368084967824\n",
      "number-1 6\n",
      "number_2 13\n",
      "2368084967824\n",
      "2368084968048\n"
     ]
    }
   ],
   "source": [
    "# Immutable\n",
    "number_1=6\n",
    "number_2=number_1\n",
    "print(id(number_1))\n",
    "print(id(number_2))\n",
    "number_2=13\n",
    "print('number-1', number_1)\n",
    "print('number_2', number_2)\n",
    "print(id(number_1))\n",
    "print(id(number_2))"
   ]
  },
  {
   "cell_type": "code",
   "execution_count": 126,
   "metadata": {},
   "outputs": [
    {
     "name": "stdout",
     "output_type": "stream",
     "text": [
      "2368198564608\n",
      "2368198564608\n",
      "number-1 [1, 5, 10, 13]\n",
      "number_2 [1, 5, 10, 13]\n",
      "2368198564608\n",
      "2368198564608\n"
     ]
    }
   ],
   "source": [
    "#mutable\n",
    "number_1=[1,5,10]\n",
    "number_2=number_1\n",
    "print(id(number_1))\n",
    "print(id(number_2))\n",
    "number_2.append(13)\n",
    "print('number-1', number_1)\n",
    "print('number_2', number_2)\n",
    "print(id(number_1))\n",
    "print(id(number_2))"
   ]
  },
  {
   "cell_type": "code",
   "execution_count": 127,
   "metadata": {},
   "outputs": [
    {
     "name": "stdout",
     "output_type": "stream",
     "text": [
      "2368198536832\n",
      "2368198579200\n",
      "number-1 [1, 5, 10]\n",
      "number_2 [1, 5, 10, 13]\n",
      "2368198536832\n",
      "2368198579200\n"
     ]
    }
   ],
   "source": [
    "# fix 1 for mutable variables\n",
    "number_1=[1,5,10]\n",
    "number_2=number_1.copy()\n",
    "print(id(number_1))\n",
    "print(id(number_2))\n",
    "number_2.append(13)\n",
    "print('number-1', number_1)\n",
    "print('number_2', number_2)\n",
    "print(id(number_1))\n",
    "print(id(number_2))"
   ]
  },
  {
   "cell_type": "code",
   "execution_count": 129,
   "metadata": {},
   "outputs": [
    {
     "name": "stdout",
     "output_type": "stream",
     "text": [
      "2368198385664\n",
      "2368198574400\n",
      "2368198536832\n",
      "2368198536832\n",
      "number-1 [1, 5, [10, 20, 13]]\n",
      "number_2 [1, 5, [10, 20, 13]]\n",
      "2368198385664\n",
      "2368198574400\n"
     ]
    }
   ],
   "source": [
    "number_1=[1,5,[10,20]]\n",
    "number_2=number_1.copy() # will fail\n",
    "print(id(number_1))\n",
    "print(id(number_2))\n",
    "print(id(number_1[2]))\n",
    "print(id(number_2[2]))\n",
    "number_2[2].append(13)\n",
    "print('number-1', number_1)\n",
    "print('number_2', number_2)\n",
    "print(id(number_1))\n",
    "print(id(number_2))"
   ]
  },
  {
   "cell_type": "code",
   "execution_count": 130,
   "metadata": {},
   "outputs": [
    {
     "name": "stdout",
     "output_type": "stream",
     "text": [
      "2368198236288\n",
      "2368198239040\n",
      "2368198532160\n",
      "2368198383424\n",
      "number-1 [1, 5, [10, 20]]\n",
      "number_2 [1, 5, [10, 20, 13]]\n",
      "2368198236288\n",
      "2368198239040\n"
     ]
    }
   ],
   "source": [
    "# best fix for mutable variables\n",
    "import copy\n",
    "\n",
    "number_1=[1,5,[10,20]]\n",
    "number_2=copy.deepcopy(number_1)\n",
    "print(id(number_1))\n",
    "print(id(number_2))\n",
    "print(id(number_1[2]))\n",
    "print(id(number_2[2]))\n",
    "number_2[2].append(13)\n",
    "print('number-1', number_1)\n",
    "print('number_2', number_2)\n",
    "print(id(number_1))\n",
    "print(id(number_2))"
   ]
  },
  {
   "cell_type": "markdown",
   "metadata": {},
   "source": [
    "# Tuple"
   ]
  },
  {
   "cell_type": "code",
   "execution_count": 142,
   "metadata": {},
   "outputs": [],
   "source": [
    "my_tuple=( 1,2,3)"
   ]
  },
  {
   "cell_type": "code",
   "execution_count": 134,
   "metadata": {},
   "outputs": [
    {
     "name": "stdout",
     "output_type": "stream",
     "text": [
      "(1, 2, 3)\n",
      "2\n",
      "(1, 2)\n"
     ]
    }
   ],
   "source": [
    "print(my_tuple)\n",
    "print(my_tuple[1])\n",
    "print(my_tuple[:2])"
   ]
  },
  {
   "cell_type": "code",
   "execution_count": 136,
   "metadata": {},
   "outputs": [
    {
     "name": "stdout",
     "output_type": "stream",
     "text": [
      "1\n",
      "2\n"
     ]
    }
   ],
   "source": [
    "print(my_tuple.count(3))\n",
    "print(my_tuple.index(3))\n"
   ]
  },
  {
   "cell_type": "code",
   "execution_count": 143,
   "metadata": {},
   "outputs": [
    {
     "name": "stdout",
     "output_type": "stream",
     "text": [
      "(1, 2, 3, 5, 10)\n"
     ]
    }
   ],
   "source": [
    "# my_tuple[2]=5 # neveiks\n",
    "my_tuple=my_tuple+(5,10)\n",
    "print(my_tuple)"
   ]
  },
  {
   "cell_type": "code",
   "execution_count": 145,
   "metadata": {},
   "outputs": [
    {
     "ename": "AttributeError",
     "evalue": "'tuple' object has no attribute 'append'",
     "output_type": "error",
     "traceback": [
      "\u001b[1;31m---------------------------------------------------------------------------\u001b[0m",
      "\u001b[1;31mAttributeError\u001b[0m                            Traceback (most recent call last)",
      "\u001b[1;32mc:\\Users\\resto\\Documents\\python\\Python-mokymai\\paskaita_2-1.ipynb Cell 50'\u001b[0m in \u001b[0;36m<module>\u001b[1;34m\u001b[0m\n\u001b[1;32m----> <a href='vscode-notebook-cell:/c%3A/Users/resto/Documents/python/Python-mokymai/paskaita_2-1.ipynb#ch0000052?line=0'>1</a>\u001b[0m my_tuple\u001b[39m.\u001b[39;49mappend(\u001b[39m5\u001b[39m)\n",
      "\u001b[1;31mAttributeError\u001b[0m: 'tuple' object has no attribute 'append'"
     ]
    }
   ],
   "source": [
    "my_tuple.append(5)"
   ]
  },
  {
   "cell_type": "code",
   "execution_count": 148,
   "metadata": {},
   "outputs": [
    {
     "name": "stdout",
     "output_type": "stream",
     "text": [
      "(1, 4, 4, 5, 5, 5)\n",
      "True\n"
     ]
    }
   ],
   "source": [
    "combined=(1,4,4)+(5,5,5)\n",
    "print(combined)\n",
    "print(5 in combined)"
   ]
  },
  {
   "cell_type": "code",
   "execution_count": 149,
   "metadata": {},
   "outputs": [
    {
     "name": "stdout",
     "output_type": "stream",
     "text": [
      "(1, 5, [4, 8])\n"
     ]
    }
   ],
   "source": [
    "my_tuple_2=(1,5,[4,8])\n",
    "print(my_tuple_2)"
   ]
  },
  {
   "cell_type": "code",
   "execution_count": 150,
   "metadata": {},
   "outputs": [
    {
     "name": "stdout",
     "output_type": "stream",
     "text": [
      "(1, 5, [4, 8, 100])\n"
     ]
    }
   ],
   "source": [
    "my_tuple_2[2].append(100)\n",
    "print(my_tuple_2)"
   ]
  },
  {
   "cell_type": "code",
   "execution_count": 160,
   "metadata": {},
   "outputs": [
    {
     "name": "stdout",
     "output_type": "stream",
     "text": [
      "8\n",
      "8\n"
     ]
    }
   ],
   "source": [
    "my_tuple=(1,2,['3',4,5],[6,[7,(8)]])\n",
    "print(my_tuple[3][1][1])\n",
    "print(my_tuple[-1][-1][-1])"
   ]
  },
  {
   "cell_type": "code",
   "execution_count": 164,
   "metadata": {},
   "outputs": [
    {
     "name": "stdout",
     "output_type": "stream",
     "text": [
      "(11, [222, 22], 44, 55)\n"
     ]
    }
   ],
   "source": [
    "tuple_1=(11,[222,33],44,55)\n",
    "tuple_1[1][-1]=22\n",
    "print(tuple_1)"
   ]
  },
  {
   "cell_type": "code",
   "execution_count": 167,
   "metadata": {},
   "outputs": [
    {
     "name": "stdout",
     "output_type": "stream",
     "text": [
      "[11, [222, 33], 44, 55]\n",
      "[11, [222, 22], 44, 55]\n"
     ]
    }
   ],
   "source": [
    "# 2 budas\n",
    "tuple_1=(11,[222,33],44,55)\n",
    "temp_list=list(tuple_1)\n",
    "print(temp_list)\n",
    "temp_list[1]=[222,22]\n",
    "print(temp_list)"
   ]
  },
  {
   "cell_type": "markdown",
   "metadata": {},
   "source": [
    "# Range deklaracija"
   ]
  },
  {
   "cell_type": "code",
   "execution_count": 170,
   "metadata": {},
   "outputs": [
    {
     "name": "stdout",
     "output_type": "stream",
     "text": [
      "<class 'range'>\n",
      "range(54, 158, 3)\n",
      "[54, 57, 60, 63, 66, 69, 72, 75, 78, 81, 84, 87, 90, 93, 96, 99, 102, 105, 108, 111, 114, 117, 120, 123, 126, 129, 132, 135, 138, 141, 144, 147, 150, 153, 156]\n"
     ]
    }
   ],
   "source": [
    "my_numbers=range(54,158,3)\n",
    "print(type(my_numbers))\n",
    "print(my_numbers)\n",
    "print(list(my_numbers))"
   ]
  },
  {
   "cell_type": "code",
   "execution_count": 171,
   "metadata": {},
   "outputs": [
    {
     "name": "stdout",
     "output_type": "stream",
     "text": [
      "[50, 43, 36, 29, 22, 15, 8, 1, -6, -13, -20, -27, -34, -41, -48, -55, -62, -69, -76, -83, -90, -97, -104, -111, -118, -125, -132, -139, -146, -153]\n"
     ]
    }
   ],
   "source": [
    "print(list(range(50,-158,-7)))"
   ]
  },
  {
   "cell_type": "code",
   "execution_count": 177,
   "metadata": {},
   "outputs": [
    {
     "name": "stdout",
     "output_type": "stream",
     "text": [
      "[3, 5, 7, 9]\n",
      "ciklas prasidejo\n",
      "3\n",
      "ciklas prasidejo\n",
      "5\n",
      "ciklas prasidejo\n",
      "7\n",
      "ciklas prasidejo\n",
      "9\n"
     ]
    }
   ],
   "source": [
    "print(list(range(3,11,2)))\n",
    "for number in range(3,11,2): # po : turi buti 4 tarpai\n",
    "    print('ciklas prasidejo')\n",
    "    print(number)\n"
   ]
  }
 ],
 "metadata": {
  "interpreter": {
   "hash": "afcf6c5641f9e98bcef0caa5083fad398b3256b82ea486054a4e0aed71169f10"
  },
  "kernelspec": {
   "display_name": "Python 3.10.2 64-bit",
   "language": "python",
   "name": "python3"
  },
  "language_info": {
   "codemirror_mode": {
    "name": "ipython",
    "version": 3
   },
   "file_extension": ".py",
   "mimetype": "text/x-python",
   "name": "python",
   "nbconvert_exporter": "python",
   "pygments_lexer": "ipython3",
   "version": "3.10.2"
  },
  "orig_nbformat": 4
 },
 "nbformat": 4,
 "nbformat_minor": 2
}
