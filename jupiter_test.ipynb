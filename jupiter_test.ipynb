{
 "cells": [
  {
   "cell_type": "code",
   "execution_count": 1,
   "metadata": {},
   "outputs": [],
   "source": [
    "mano_vardas=\"Karina\"\n"
   ]
  },
  {
   "cell_type": "code",
   "execution_count": 51,
   "metadata": {},
   "outputs": [
    {
     "name": "stdout",
     "output_type": "stream",
     "text": [
      "Karina\n",
      "Hello World My name is Karina\n",
      "hello world\n"
     ]
    }
   ],
   "source": [
    "print(mano_vardas)\n",
    "print('Hello World', 'My name is', mano_vardas)\n",
    "\n",
    "print(\"hello world\")"
   ]
  },
  {
   "cell_type": "code",
   "execution_count": 5,
   "metadata": {},
   "outputs": [
    {
     "data": {
      "text/plain": [
       "str"
      ]
     },
     "execution_count": 5,
     "metadata": {},
     "output_type": "execute_result"
    }
   ],
   "source": [
    "type(mano_vardas)"
   ]
  },
  {
   "cell_type": "code",
   "execution_count": 6,
   "metadata": {},
   "outputs": [
    {
     "data": {
      "text/plain": [
       "int"
      ]
     },
     "execution_count": 6,
     "metadata": {},
     "output_type": "execute_result"
    }
   ],
   "source": [
    "type(5)\n"
   ]
  },
  {
   "cell_type": "code",
   "execution_count": 8,
   "metadata": {},
   "outputs": [
    {
     "name": "stdout",
     "output_type": "stream",
     "text": [
      "5\n",
      "10\n"
     ]
    }
   ],
   "source": [
    "print(abs(-5))\n",
    "print(abs(10))"
   ]
  },
  {
   "cell_type": "code",
   "execution_count": null,
   "metadata": {},
   "outputs": [],
   "source": [
    "# print negalima naudoti siai sau - cia yra komentaras\n",
    "# Ctrl+/ galima komentuoti ir atkomentuoti ( atsiranda groteles)"
   ]
  },
  {
   "cell_type": "code",
   "execution_count": 12,
   "metadata": {},
   "outputs": [
    {
     "name": "stdout",
     "output_type": "stream",
     "text": [
      "hello world!\n",
      " don't come back \n",
      "this is a text with \" in the middle\n",
      " \n",
      "kazkoks eiliuotas \n",
      "tekstas\n",
      "\n"
     ]
    }
   ],
   "source": [
    "tekstas= 'hello world!'\n",
    "tekstas_2= \" don't come back \"\n",
    "print(tekstas)\n",
    "print(tekstas_2)\n",
    "tekstas_3= 'this is a text with \" in the middle'\n",
    "print(tekstas_3)\n",
    "multiline_text=\"\"\" \n",
    "kazkoks eiliuotas \n",
    "tekstas\n",
    "\"\"\"\n",
    "print(multiline_text)\n"
   ]
  },
  {
   "cell_type": "code",
   "execution_count": 18,
   "metadata": {},
   "outputs": [
    {
     "name": "stdout",
     "output_type": "stream",
     "text": [
      "H\n",
      "l\n",
      "!\n",
      "d\n"
     ]
    }
   ],
   "source": [
    "text='Hello World!'\n",
    "print(text[0])\n",
    "print(text[2])\n",
    "print(text[-1])\n",
    "print(text[-2])"
   ]
  },
  {
   "cell_type": "markdown",
   "metadata": {},
   "source": [
    "# slicing"
   ]
  },
  {
   "cell_type": "code",
   "execution_count": 30,
   "metadata": {},
   "outputs": [
    {
     "name": "stdout",
     "output_type": "stream",
     "text": [
      "Hello World!\n",
      "text[0:5] Hello Hello\n",
      "text[6:9] Wor\n",
      "text[6:] World!\n",
      "text[6::2] Wrd\n",
      "text[::3] HlWl\n",
      "text[::-1] !dlroW olleH\n"
     ]
    }
   ],
   "source": [
    "print(text)\n",
    "print('text[0:5]',text[0:5], text[:5])\n",
    "#[start:end:step]- end is not included\n",
    "print('text[6:9]', text[6:9])\n",
    "print('text[6:]', text[6:])\n",
    "print('text[6::2]', text[6::2])\n",
    "print('text[::3]', text[::3])\n",
    "\n",
    "#reversing\n",
    "print('text[::-1]',text[::-1])\n"
   ]
  },
  {
   "cell_type": "code",
   "execution_count": 36,
   "metadata": {},
   "outputs": [
    {
     "name": "stdout",
     "output_type": "stream",
     "text": [
      "12\n",
      "Hello World!\n"
     ]
    }
   ],
   "source": [
    "print(len(text))\n",
    "print(text)"
   ]
  },
  {
   "cell_type": "code",
   "execution_count": 39,
   "metadata": {},
   "outputs": [
    {
     "name": "stdout",
     "output_type": "stream",
     "text": [
      "3\n",
      "hello world!\n"
     ]
    }
   ],
   "source": [
    "print(text.count('l'))\n",
    "print(text.lower()) # does not overwrite orinigal data"
   ]
  },
  {
   "cell_type": "code",
   "execution_count": 45,
   "metadata": {},
   "outputs": [
    {
     "name": "stdout",
     "output_type": "stream",
     "text": [
      "['Hello', 'World!']\n",
      "['He', '', 'o Wor', 'd!']\n",
      "HellotarpasWorld!\n",
      "Hello World\n"
     ]
    }
   ],
   "source": [
    "print(text.split())\n",
    "print(text.split('l'))\n",
    "print(text.replace(' ', 'tarpas'))\n",
    "print(text.replace('!', ''))"
   ]
  },
  {
   "cell_type": "code",
   "execution_count": 46,
   "metadata": {},
   "outputs": [
    {
     "data": {
      "text/plain": [
       "'Hello World!'"
      ]
     },
     "execution_count": 46,
     "metadata": {},
     "output_type": "execute_result"
    }
   ],
   "source": [
    "text"
   ]
  },
  {
   "cell_type": "code",
   "execution_count": 50,
   "metadata": {},
   "outputs": [
    {
     "name": "stdout",
     "output_type": "stream",
     "text": [
      "True\n",
      "False\n"
     ]
    }
   ],
   "source": [
    "print('World' in text)\n",
    "print('world' in text)"
   ]
  },
  {
   "cell_type": "code",
   "execution_count": 59,
   "metadata": {},
   "outputs": [
    {
     "name": "stdout",
     "output_type": "stream",
     "text": [
      "Hello World My name is Karina , I like to play tennis\n",
      "Hello World My name is Karina Davidovskaja, I like to play tennis\n",
      "Hello World My name is Karina Davidovskaja, I like to play tennis. 5+2 is 7\n"
     ]
    }
   ],
   "source": [
    "mano_pavarde='Davidovskaja'\n",
    "print('Hello World', 'My name is', mano_vardas, ', I like to play tennis')\n",
    "print('Hello World', 'My name is', mano_vardas, mano_pavarde+ ', I like to play tennis')\n",
    " # f-string- format string\n",
    "\n",
    "print( f'Hello World My name is {mano_vardas} {mano_pavarde}, I like to play tennis. 5+2 is {5+2}')"
   ]
  },
  {
   "cell_type": "code",
   "execution_count": 70,
   "metadata": {},
   "outputs": [
    {
     "name": "stdout",
     "output_type": "stream",
     "text": [
      "Hello world\n",
      "Hello Hello Hello Hello Hello \n",
      "Hello 1\n"
     ]
    }
   ],
   "source": [
    "print('Hello '+\"world\")\n",
    "#print('Hello '-\"l\")\n",
    "print('Hello '*5)\n",
    "print('Hello '+'1')\n"
   ]
  },
  {
   "cell_type": "code",
   "execution_count": 78,
   "metadata": {},
   "outputs": [
    {
     "name": "stdout",
     "output_type": "stream",
     "text": [
      "52\n",
      "42\n",
      "235\n",
      "9.4\n",
      "229345007\n",
      "8\n",
      "0\n",
      "2\n",
      "1\n",
      "0\n"
     ]
    }
   ],
   "source": [
    "number=47\n",
    "print(number+5)\n",
    "print(number-5)\n",
    "print(number*5)\n",
    "print(number/5)\n",
    "print(number**5) # kelimas laipsniu\n",
    "print(2**3)\n",
    "print(2//3) #sveika dalis\n",
    "print(number%5) # likutine dalis\n",
    "print(3%2)\n",
    "print(6%2)\n",
    "\n",
    "\n"
   ]
  },
  {
   "cell_type": "code",
   "execution_count": 35,
   "metadata": {},
   "outputs": [
    {
     "name": "stdout",
     "output_type": "stream",
     "text": [
      "True\n",
      "False\n"
     ]
    }
   ],
   "source": [
    "print(' '.isspace())\n",
    "print(' a'.isspace())"
   ]
  }
 ],
 "metadata": {
  "interpreter": {
   "hash": "afcf6c5641f9e98bcef0caa5083fad398b3256b82ea486054a4e0aed71169f10"
  },
  "kernelspec": {
   "display_name": "Python 3.10.2 64-bit",
   "language": "python",
   "name": "python3"
  },
  "language_info": {
   "codemirror_mode": {
    "name": "ipython",
    "version": 3
   },
   "file_extension": ".py",
   "mimetype": "text/x-python",
   "name": "python",
   "nbconvert_exporter": "python",
   "pygments_lexer": "ipython3",
   "version": "3.10.2"
  },
  "orig_nbformat": 4
 },
 "nbformat": 4,
 "nbformat_minor": 2
}
